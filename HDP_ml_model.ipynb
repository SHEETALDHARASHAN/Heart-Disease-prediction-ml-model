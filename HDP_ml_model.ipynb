{
  "nbformat": 4,
  "nbformat_minor": 0,
  "metadata": {
    "colab": {
      "provenance": [],
      "mount_file_id": "1lLmlTOXVYa1G4CQLli075D5F2A3uCbRf",
      "authorship_tag": "ABX9TyP34pCxtKXQIxAgyPw+VcJ5",
      "include_colab_link": true
    },
    "kernelspec": {
      "name": "python3",
      "display_name": "Python 3"
    },
    "language_info": {
      "name": "python"
    }
  },
  "cells": [
    {
      "cell_type": "markdown",
      "metadata": {
        "id": "view-in-github",
        "colab_type": "text"
      },
      "source": [
        "<a href=\"https://colab.research.google.com/github/SHEETALDHARSHAN-A/Heart-Disease-prediction/blob/main/HDP_ml_model.ipynb\" target=\"_parent\"><img src=\"https://colab.research.google.com/assets/colab-badge.svg\" alt=\"Open In Colab\"/></a>"
      ]
    },
    {
      "cell_type": "code",
      "source": [
        "!pip install streamlit pyngrok\n",
        "\n",
        "from pyngrok import ngrok\n",
        "\n",
        "# Replace 'YOUR_NGROK_AUTHTOKEN' with your actual Ngrok authtoken\n",
        "ngrok.set_auth_token('2hXNNapu4Pn8KP8HAmlj3hBXiw0_wGsSwgfgjQC2jXKEzu6m')\n"
      ],
      "metadata": {
        "colab": {
          "base_uri": "https://localhost:8080/"
        },
        "id": "uy9UTazEJysE",
        "outputId": "3225f839-59d5-458d-dd07-54e5efab305a"
      },
      "execution_count": null,
      "outputs": [
        {
          "output_type": "stream",
          "name": "stdout",
          "text": [
            "Requirement already satisfied: streamlit in /usr/local/lib/python3.10/dist-packages (1.35.0)\n",
            "Requirement already satisfied: pyngrok in /usr/local/lib/python3.10/dist-packages (7.1.6)\n",
            "Requirement already satisfied: altair<6,>=4.0 in /usr/local/lib/python3.10/dist-packages (from streamlit) (4.2.2)\n",
            "Requirement already satisfied: blinker<2,>=1.0.0 in /usr/lib/python3/dist-packages (from streamlit) (1.4)\n",
            "Requirement already satisfied: cachetools<6,>=4.0 in /usr/local/lib/python3.10/dist-packages (from streamlit) (5.3.3)\n",
            "Requirement already satisfied: click<9,>=7.0 in /usr/local/lib/python3.10/dist-packages (from streamlit) (8.1.7)\n",
            "Requirement already satisfied: numpy<2,>=1.19.3 in /usr/local/lib/python3.10/dist-packages (from streamlit) (1.25.2)\n",
            "Requirement already satisfied: packaging<25,>=16.8 in /usr/local/lib/python3.10/dist-packages (from streamlit) (24.0)\n",
            "Requirement already satisfied: pandas<3,>=1.3.0 in /usr/local/lib/python3.10/dist-packages (from streamlit) (2.0.3)\n",
            "Requirement already satisfied: pillow<11,>=7.1.0 in /usr/local/lib/python3.10/dist-packages (from streamlit) (9.4.0)\n",
            "Requirement already satisfied: protobuf<5,>=3.20 in /usr/local/lib/python3.10/dist-packages (from streamlit) (3.20.3)\n",
            "Requirement already satisfied: pyarrow>=7.0 in /usr/local/lib/python3.10/dist-packages (from streamlit) (14.0.2)\n",
            "Requirement already satisfied: requests<3,>=2.27 in /usr/local/lib/python3.10/dist-packages (from streamlit) (2.31.0)\n",
            "Requirement already satisfied: rich<14,>=10.14.0 in /usr/local/lib/python3.10/dist-packages (from streamlit) (13.7.1)\n",
            "Requirement already satisfied: tenacity<9,>=8.1.0 in /usr/local/lib/python3.10/dist-packages (from streamlit) (8.3.0)\n",
            "Requirement already satisfied: toml<2,>=0.10.1 in /usr/local/lib/python3.10/dist-packages (from streamlit) (0.10.2)\n",
            "Requirement already satisfied: typing-extensions<5,>=4.3.0 in /usr/local/lib/python3.10/dist-packages (from streamlit) (4.12.1)\n",
            "Requirement already satisfied: gitpython!=3.1.19,<4,>=3.0.7 in /usr/local/lib/python3.10/dist-packages (from streamlit) (3.1.43)\n",
            "Requirement already satisfied: pydeck<1,>=0.8.0b4 in /usr/local/lib/python3.10/dist-packages (from streamlit) (0.9.1)\n",
            "Requirement already satisfied: tornado<7,>=6.0.3 in /usr/local/lib/python3.10/dist-packages (from streamlit) (6.3.3)\n",
            "Requirement already satisfied: watchdog>=2.1.5 in /usr/local/lib/python3.10/dist-packages (from streamlit) (4.0.1)\n",
            "Requirement already satisfied: PyYAML>=5.1 in /usr/local/lib/python3.10/dist-packages (from pyngrok) (6.0.1)\n",
            "Requirement already satisfied: entrypoints in /usr/local/lib/python3.10/dist-packages (from altair<6,>=4.0->streamlit) (0.4)\n",
            "Requirement already satisfied: jinja2 in /usr/local/lib/python3.10/dist-packages (from altair<6,>=4.0->streamlit) (3.1.4)\n",
            "Requirement already satisfied: jsonschema>=3.0 in /usr/local/lib/python3.10/dist-packages (from altair<6,>=4.0->streamlit) (4.19.2)\n",
            "Requirement already satisfied: toolz in /usr/local/lib/python3.10/dist-packages (from altair<6,>=4.0->streamlit) (0.12.1)\n",
            "Requirement already satisfied: gitdb<5,>=4.0.1 in /usr/local/lib/python3.10/dist-packages (from gitpython!=3.1.19,<4,>=3.0.7->streamlit) (4.0.11)\n",
            "Requirement already satisfied: python-dateutil>=2.8.2 in /usr/local/lib/python3.10/dist-packages (from pandas<3,>=1.3.0->streamlit) (2.8.2)\n",
            "Requirement already satisfied: pytz>=2020.1 in /usr/local/lib/python3.10/dist-packages (from pandas<3,>=1.3.0->streamlit) (2023.4)\n",
            "Requirement already satisfied: tzdata>=2022.1 in /usr/local/lib/python3.10/dist-packages (from pandas<3,>=1.3.0->streamlit) (2024.1)\n",
            "Requirement already satisfied: charset-normalizer<4,>=2 in /usr/local/lib/python3.10/dist-packages (from requests<3,>=2.27->streamlit) (3.3.2)\n",
            "Requirement already satisfied: idna<4,>=2.5 in /usr/local/lib/python3.10/dist-packages (from requests<3,>=2.27->streamlit) (3.7)\n",
            "Requirement already satisfied: urllib3<3,>=1.21.1 in /usr/local/lib/python3.10/dist-packages (from requests<3,>=2.27->streamlit) (2.0.7)\n",
            "Requirement already satisfied: certifi>=2017.4.17 in /usr/local/lib/python3.10/dist-packages (from requests<3,>=2.27->streamlit) (2024.6.2)\n",
            "Requirement already satisfied: markdown-it-py>=2.2.0 in /usr/local/lib/python3.10/dist-packages (from rich<14,>=10.14.0->streamlit) (3.0.0)\n",
            "Requirement already satisfied: pygments<3.0.0,>=2.13.0 in /usr/local/lib/python3.10/dist-packages (from rich<14,>=10.14.0->streamlit) (2.16.1)\n",
            "Requirement already satisfied: smmap<6,>=3.0.1 in /usr/local/lib/python3.10/dist-packages (from gitdb<5,>=4.0.1->gitpython!=3.1.19,<4,>=3.0.7->streamlit) (5.0.1)\n",
            "Requirement already satisfied: MarkupSafe>=2.0 in /usr/local/lib/python3.10/dist-packages (from jinja2->altair<6,>=4.0->streamlit) (2.1.5)\n",
            "Requirement already satisfied: attrs>=22.2.0 in /usr/local/lib/python3.10/dist-packages (from jsonschema>=3.0->altair<6,>=4.0->streamlit) (23.2.0)\n",
            "Requirement already satisfied: jsonschema-specifications>=2023.03.6 in /usr/local/lib/python3.10/dist-packages (from jsonschema>=3.0->altair<6,>=4.0->streamlit) (2023.12.1)\n",
            "Requirement already satisfied: referencing>=0.28.4 in /usr/local/lib/python3.10/dist-packages (from jsonschema>=3.0->altair<6,>=4.0->streamlit) (0.35.1)\n",
            "Requirement already satisfied: rpds-py>=0.7.1 in /usr/local/lib/python3.10/dist-packages (from jsonschema>=3.0->altair<6,>=4.0->streamlit) (0.18.1)\n",
            "Requirement already satisfied: mdurl~=0.1 in /usr/local/lib/python3.10/dist-packages (from markdown-it-py>=2.2.0->rich<14,>=10.14.0->streamlit) (0.1.2)\n",
            "Requirement already satisfied: six>=1.5 in /usr/local/lib/python3.10/dist-packages (from python-dateutil>=2.8.2->pandas<3,>=1.3.0->streamlit) (1.16.0)\n"
          ]
        }
      ]
    },
    {
      "cell_type": "code",
      "execution_count": null,
      "metadata": {
        "colab": {
          "base_uri": "https://localhost:8080/",
          "height": 1000
        },
        "id": "W7_dcAGpjhPi",
        "outputId": "1e51b364-27d7-4c98-b270-0507adea8b38"
      },
      "outputs": [
        {
          "output_type": "stream",
          "name": "stdout",
          "text": [
            "   age  sex  cp  trestbps  chol  fbs  restecg  thalach  exang  oldpeak  slope  \\\n",
            "0   48    1   0       130   256    1        0      150      1      0.0      2   \n",
            "1   61    1   0       148   203    0        1      161      0      0.0      2   \n",
            "2   44    0   2       118   242    0        1      149      0      0.3      1   \n",
            "3   47    1   0       110   275    0        0      118      1      1.0      1   \n",
            "4   56    1   3       120   193    0        0      162      0      1.9      1   \n",
            "\n",
            "   ca  thal  target  \n",
            "0   2     3       0  \n",
            "1   1     3       0  \n",
            "2   1     2       1  \n",
            "3   1     2       0  \n",
            "4   0     3       1  \n",
            "\n",
            "Logistic Regression Evaluation Metrics:\n",
            "Accuracy: 0.7704918032786885\n",
            "Precision: 0.8142857142857143\n",
            "Recall: 0.7916666666666666\n",
            "F1 Score: 0.8028169014084506\n",
            "Confusion Matrix:\n",
            "[[37 13]\n",
            " [15 57]]\n",
            "Cross-Validation Accuracy: 0.763961522828885\n",
            "\n",
            "Random Forest Evaluation Metrics:\n",
            "Accuracy: 0.9508196721311475\n",
            "Precision: 0.9459459459459459\n",
            "Recall: 0.9722222222222222\n",
            "F1 Score: 0.9589041095890412\n",
            "Confusion Matrix:\n",
            "[[46  4]\n",
            " [ 2 70]]\n",
            "Cross-Validation Accuracy: 0.9636905568351171\n",
            "\n",
            "Gradient Boosting Evaluation Metrics:\n",
            "Accuracy: 0.8688524590163934\n",
            "Precision: 0.9\n",
            "Recall: 0.875\n",
            "F1 Score: 0.8873239436619719\n",
            "Confusion Matrix:\n",
            "[[43  7]\n",
            " [ 9 63]]\n",
            "Cross-Validation Accuracy: 0.8713047012599919\n",
            "\n",
            "k-NN Evaluation Metrics:\n",
            "Accuracy: 0.7622950819672131\n",
            "Precision: 0.7721518987341772\n",
            "Recall: 0.8472222222222222\n",
            "F1 Score: 0.8079470198675496\n",
            "Confusion Matrix:\n",
            "[[32 18]\n",
            " [11 61]]\n",
            "Cross-Validation Accuracy: 0.8052838368784718\n",
            "\n",
            "Best model based on cross-validation accuracy:\n",
            "RandomForestClassifier(random_state=42)\n"
          ]
        },
        {
          "output_type": "display_data",
          "data": {
            "text/plain": [
              "<Figure size 640x480 with 1 Axes>"
            ],
            "image/png": "[encoded data removed]"
          },
          "metadata": {}
        }
      ],
      "source": [
        "import pandas as pd\n",
        "import numpy as np\n",
        "import pickle\n",
        "from sklearn.model_selection import train_test_split, cross_val_score\n",
        "from sklearn.preprocessing import StandardScaler\n",
        "from sklearn.linear_model import LogisticRegression\n",
        "from sklearn.ensemble import RandomForestClassifier, GradientBoostingClassifier\n",
        "from sklearn.neighbors import KNeighborsClassifier\n",
        "from sklearn.metrics import accuracy_score, precision_score, recall_score, f1_score, confusion_matrix\n",
        "import matplotlib.pyplot as plt\n",
        "# Load the dataset\n",
        "file_path = 'heart_disease_data.csv'\n",
        "data = pd.read_csv(file_path)\n",
        "\n",
        "# Display the first few rows of the dataset\n",
        "print(data.head())\n",
        "\n",
        "# Preprocess the data\n",
        "# Handle missing values (if any)\n",
        "data.fillna(data.mean(), inplace=True)\n",
        "\n",
        "# Select specified features\n",
        "selected_features = ['age', 'sex', 'cp', 'trestbps', 'chol', 'fbs']\n",
        "X = data[selected_features]\n",
        "y = data['target']\n",
        "\n",
        "# Normalize/scale the features\n",
        "scaler = StandardScaler()\n",
        "X_scaled = scaler.fit_transform(X)\n",
        "\n",
        "# Split the data into training and test sets\n",
        "X_train, X_test, y_train, y_test = train_test_split(X_scaled, y, test_size=0.2, random_state=42)\n",
        "\n",
        "# Initialize the models\n",
        "models = {\n",
        "    'Logistic Regression': LogisticRegression(),\n",
        "    'Random Forest': RandomForestClassifier(random_state=42),\n",
        "    'Gradient Boosting': GradientBoostingClassifier(random_state=42),\n",
        "    'k-NN': KNeighborsClassifier(n_neighbors=5)\n",
        "}\n",
        "\n",
        "# Train and evaluate each model\n",
        "best_model = None\n",
        "best_score = 0\n",
        "evaluation_results = {}\n",
        "\n",
        "for model_name, model in models.items():\n",
        "    # Train the model\n",
        "    model.fit(X_train, y_train)\n",
        "\n",
        "    # Make predictions\n",
        "    y_pred = model.predict(X_test)\n",
        "\n",
        "    # Evaluate the model\n",
        "    accuracy = accuracy_score(y_test, y_pred)\n",
        "    precision = precision_score(y_test, y_pred)\n",
        "    recall = recall_score(y_test, y_pred)\n",
        "    f1 = f1_score(y_test, y_pred)\n",
        "    conf_matrix = confusion_matrix(y_test, y_pred)\n",
        "\n",
        "    evaluation_results[model_name] = {\n",
        "        'accuracy': accuracy,\n",
        "        'precision': precision,\n",
        "        'recall': recall,\n",
        "        'f1': f1,\n",
        "        'confusion_matrix': conf_matrix\n",
        "    }\n",
        "\n",
        "    # Cross-validation\n",
        "    cv_scores = cross_val_score(model, X_scaled, y, cv=5, scoring='accuracy')\n",
        "    cv_score_mean = cv_scores.mean()\n",
        "\n",
        "    print(f\"\\n{model_name} Evaluation Metrics:\")\n",
        "    print(f'Accuracy: {accuracy}')\n",
        "    print(f'Precision: {precision}')\n",
        "    print(f'Recall: {recall}')\n",
        "    print(f'F1 Score: {f1}')\n",
        "    print(f'Confusion Matrix:\\n{conf_matrix}')\n",
        "    print(f'Cross-Validation Accuracy: {cv_score_mean}')\n",
        "\n",
        "    # Update the best model based on cross-validation score\n",
        "    if cv_score_mean > best_score:\n",
        "        best_score = cv_score_mean\n",
        "        best_model = model\n",
        "\n",
        "print(\"\\nBest model based on cross-validation accuracy:\")\n",
        "print(best_model)\n",
        "\n",
        "fig, ax = plt.subplots()\n",
        "model_names = list(models.keys())\n",
        "ax.barh(model_names, accuracy, color='skyblue') # Use the accuracies list here\n",
        "ax.set_xlabel('Accuracy')\n",
        "ax.set_title('Model Accuracy Comparison')\n",
        "\n",
        "# Save the best model and scaler\n",
        "with open('best_model.pkl', 'wb') as f:\n",
        "    pickle.dump(best_model, f)\n",
        "\n",
        "with open('scaler.pkl', 'wb') as f:\n",
        "    pickle.dump(scaler, f)\n"
      ]
    },
    {
      "cell_type": "code",
      "source": [
        "\n",
        "%%writefile app.py\n",
        "import streamlit as st\n",
        "import pandas as pd\n",
        "import numpy as np\n",
        "import pickle\n",
        "from sklearn.preprocessing import StandardScaler\n",
        "\n",
        "# Load the model and scaler\n",
        "best_model = None\n",
        "scaler = None\n",
        "with open('best_model.pkl', 'rb') as f:\n",
        "    best_model = pickle.load(f)\n",
        "with open('scaler.pkl', 'rb') as f:\n",
        "    scaler = pickle.load(f)\n",
        "\n",
        "# Define the features\n",
        "selected_features = ['age', 'sex', 'cp', 'trestbps', 'chol', 'fbs']\n",
        "\n",
        "# Streamlit app\n",
        "st.title('Heart Disease Prediction')\n",
        "\n",
        "# User inputs\n",
        "st.header('Input Patient Data')\n",
        "age = st.number_input('Age', min_value=0, max_value=120, value=44)\n",
        "sex = st.selectbox('Sex', options=[0, 1], format_func=lambda x: 'Female' if x == 0 else 'Male')\n",
        "cp = st.selectbox('Chest Pain Type (cp)', options=[0, 1, 2, 3], index=2)\n",
        "trestbps = st.number_input('Resting Blood Pressure (trestbps)', min_value=50, max_value=200, value=118)\n",
        "chol = st.number_input('Serum Cholesterol (chol)', min_value=100, max_value=400, value=142)\n",
        "fbs = st.selectbox('Fasting Blood Sugar > 120 mg/dl (fbs)', options=[0, 1], index=0)\n",
        "\n",
        "# Prediction\n",
        "if st.button('Predict'):\n",
        "    input_data = {\n",
        "        'age': age,\n",
        "        'sex': sex,\n",
        "        'cp': cp,\n",
        "        'trestbps': trestbps,\n",
        "        'chol': chol,\n",
        "        'fbs': fbs\n",
        "    }\n",
        "\n",
        "    # Convert the input data to DataFrame\n",
        "    input_df = pd.DataFrame([input_data], columns=selected_features)\n",
        "\n",
        "    # Scale the input data\n",
        "    input_scaled = scaler.transform(input_df)\n",
        "\n",
        "    # Get the probability of heart disease\n",
        "    probability = best_model.predict_proba(input_scaled)[0][1]\n",
        "\n",
        "    # Display the result\n",
        "    st.markdown(f\"<h2>The probability of having heart disease is {probability * 100:.2f}%</h2>\", unsafe_allow_html=True)\n",
        "\n",
        "# Display some dataset info and description\n",
        "st.write('This model is trained on the UCI Heart Disease dataset. The selected features are age, sex, chest pain type (cp), resting blood pressure (trestbps), serum cholesterol (chol), and fasting blood sugar (fbs).')\n"
      ],
      "metadata": {
        "id": "_btmjXgNV7yS",
        "colab": {
          "base_uri": "https://localhost:8080/"
        },
        "outputId": "4157d15f-bbc9-4bbf-b000-875e82c676e9"
      },
      "execution_count": null,
      "outputs": [
        {
          "output_type": "stream",
          "name": "stdout",
          "text": [
            "Writing app.py\n"
          ]
        }
      ]
    },
    {
      "cell_type": "code",
      "source": [
        "!ngrok authtoken 2hXNNapu4Pn8KP8HAmlj3hBXiw0_wGsSwgfgjQC2jXKEzu6m\n"
      ],
      "metadata": {
        "colab": {
          "base_uri": "https://localhost:8080/"
        },
        "id": "NQ16nT8pEuRp",
        "outputId": "fe52ab42-69a5-4536-a212-7b52cee0edaa"
      },
      "execution_count": null,
      "outputs": [
        {
          "output_type": "stream",
          "name": "stdout",
          "text": [
            "Authtoken saved to configuration file: /root/.config/ngrok/ngrok.yml\n"
          ]
        }
      ]
    },
    {
      "cell_type": "code",
      "source": [
        "import subprocess\n",
        "from pyngrok import ngrok\n",
        "\n",
        "def run_streamlit_app():\n",
        "    # Open a tunnel on port 8501 for Streamlit, explicitly specifying the 'port'\n",
        "    tunnel = ngrok.connect(8501, \"http\")  # Specify port and protocol\n",
        "    public_url = tunnel.public_url\n",
        "    print(f'Public URL: {public_url}')\n",
        "\n",
        "    # Run the Streamlit app\n",
        "    process = subprocess.Popen(['streamlit', 'run', 'app.py'])\n",
        "    return process, public_url\n",
        "\n",
        "# Run the Streamlit app and get the public URL\n",
        "process, public_url = run_streamlit_app()\n",
        "\n",
        "# Display the public URL\n",
        "print(f'Your Streamlit app is available at: {public_url}')"
      ],
      "metadata": {
        "colab": {
          "base_uri": "https://localhost:8080/"
        },
        "id": "Dk6pwiV8DtP9",
        "outputId": "6450cb81-3a62-458a-e2b7-a2c08dee6689"
      },
      "execution_count": null,
      "outputs": [
        {
          "output_type": "stream",
          "name": "stdout",
          "text": [
            "Public URL: https://4c3e-34-171-169-158.ngrok-free.app\n",
            "Your Streamlit app is available at: https://4c3e-34-171-169-158.ngrok-free.app\n"
          ]
        }
      ]
    },
    {
      "cell_type": "code",
      "source": [
        "from sklearn.metrics import confusion_matrix\n",
        "import matplotlib.pyplot as plt\n",
        "\n",
        "# Confusion Matrix for Random Forest (assuming 'best_rf_model' is defined)\n",
        "cm = confusion_matrix(y_test, best_model.predict(X_test))\n",
        "plt.figure(figsize=(8, 6))\n",
        "plt.imshow(cm, interpolation='nearest', cmap=plt.cm.Blues)\n",
        "plt.title('Confusion Matrix: Random Forest')\n",
        "plt.colorbar()\n"
      ],
      "metadata": {
        "colab": {
          "base_uri": "https://localhost:8080/",
          "height": 563
        },
        "id": "rt4kwT1XCttz",
        "outputId": "43190bc4-e836-41a7-a35f-72142c92b4a8"
      },
      "execution_count": null,
      "outputs": [
        {
          "output_type": "execute_result",
          "data": {
            "text/plain": [
              "<matplotlib.colorbar.Colorbar at 0x7e0825fc3fa0>"
            ]
          },
          "metadata": {},
          "execution_count": 6
        },
        {
          "output_type": "display_data",
          "data": {
            "text/plain": [
              "<Figure size 800x600 with 2 Axes>"
            ],
            "image/png": "[encoded data removed]"
          },
          "metadata": {}
        }
      ]
    }
  ]
}